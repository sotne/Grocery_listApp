{
 "cells": [
  {
   "cell_type": "code",
   "execution_count": null,
   "id": "6be412e7",
   "metadata": {},
   "outputs": [],
   "source": [
    "# 1) Takes in an input\n",
    "# 2) Stores user input into a dictionary or list\n",
    "# 3) The User can add or delete items\n",
    "# 4) The User can see current shopping list\n",
    "# 5) The program Loops until user 'quits'\n",
    "# 6) Upon quiting the program, prints out a receipt of the items with total and quantity\n",
    "\n",
    "# grocerry_store{\n",
    "#     item:price,\n",
    "#     item:price,\n",
    "#     item:price,\n",
    "    \n",
    "# }"
   ]
  },
  {
   "cell_type": "code",
   "execution_count": 5,
   "id": "47bcd2a1",
   "metadata": {},
   "outputs": [],
   "source": [
    "#empty list or dictionary\n",
    "#grocery_list = {}\n",
    "#required inputs\n",
    "#input(\"would you like to add/remove/show/ or quit?\")\n",
    "#input(\"what would you like to add?\")\n",
    "#input(\"how much was this {item()}?\")\n",
    "#                                                             input(\"how many would you like to add?\")\n",
    "#input(\"what would you like to remove?\")\n",
    "#                                                             input(\"how many would you like to remove?\")\n",
    "#input(\"how much was this item?\")\n",
    "#item = input(\"what would you like to add?\")\n",
    "#price = input(\"how much was this {item()}?\")\n",
    "#for \"show\" print list\n",
    "#if \"quit\" print list and total price\n",
    "\n",
    "            \n"
   ]
  },
  {
   "cell_type": "markdown",
   "id": "c781457a",
   "metadata": {},
   "source": [
    "attempt 1"
   ]
  },
  {
   "cell_type": "code",
   "execution_count": 1,
   "id": "bed0671c",
   "metadata": {},
   "outputs": [
    {
     "ename": "AttributeError",
     "evalue": "'dict' object has no attribute 'difference'",
     "output_type": "error",
     "traceback": [
      "\u001b[1;31m---------------------------------------------------------------------------\u001b[0m",
      "\u001b[1;31mAttributeError\u001b[0m                            Traceback (most recent call last)",
      "Input \u001b[1;32mIn [1]\u001b[0m, in \u001b[0;36m<cell line: 3>\u001b[1;34m()\u001b[0m\n\u001b[0;32m      1\u001b[0m grocery_list_add \u001b[38;5;241m=\u001b[39m {}\n\u001b[0;32m      2\u001b[0m grocery_list_remove \u001b[38;5;241m=\u001b[39m {}\n\u001b[1;32m----> 3\u001b[0m current_list \u001b[38;5;241m=\u001b[39m \u001b[43mgrocery_list_add\u001b[49m\u001b[38;5;241;43m.\u001b[39;49m\u001b[43mdifference\u001b[49m(grocery_lsit_remove)\n\u001b[0;32m      4\u001b[0m \u001b[38;5;28;01mdef\u001b[39;00m \u001b[38;5;21mmy_list\u001b[39m():\n\u001b[0;32m      5\u001b[0m     x \u001b[38;5;241m=\u001b[39m \u001b[38;5;124m\"\u001b[39m\u001b[38;5;124m\"\u001b[39m\n",
      "\u001b[1;31mAttributeError\u001b[0m: 'dict' object has no attribute 'difference'"
     ]
    }
   ],
   "source": [
    "# grocery_list_add = {}\n",
    "# grocery_list_remove = {}\n",
    "# current_list = grocery_list_add.difference(grocery_lsit_remove)\n",
    "# def my_list():\n",
    "#     x = \"\"\n",
    "#     while x != \"quit\":\n",
    "#         x = input(\"would you like to add/remove/show/ or quit?\").lower()\n",
    "#         if x == \"add\":\n",
    "#             item_add = input(\"what would you like to add?\")\n",
    "#             price_add = input(\"how much was this {item_add()}?\")\n",
    "#             grocery_list_add[item_add] = price_add \n",
    "#         if x == \"remove\":\n",
    "#             item_remove = input(\"what would you like to remove?\")\n",
    "#             price_add = input(\"how much was this {item_remove()}?\")\n",
    "#             grocery_list_remove[item_remove] = price_remove\n",
    "#         if x == \"show\":\n",
    "#             print(current_list)\n",
    "#     print(current_list)\n"
   ]
  },
  {
   "cell_type": "markdown",
   "id": "adcdc9c9",
   "metadata": {},
   "source": [
    "attempt 2"
   ]
  },
  {
   "cell_type": "code",
   "execution_count": null,
   "id": "e69da95a",
   "metadata": {},
   "outputs": [],
   "source": [
    "``` grocery_list = {}\n",
    "\n",
    "def my_list():\n",
    "    x = \"\"\n",
    "    while x != \"quit\":\n",
    "        x = input(\"what would you like to do (add/remove/show/quit)? \")\n",
    "\n",
    "        if x == \"add\":\n",
    "            item = input(\"what would you like to add? \")\n",
    "            price = float(input(\"How much does this cost? \"))\n",
    "            quantity = int(input(\"how many are you getting? \"))\n",
    "            grocery_list[item] = ({'Price':price ,'Quantity': quantity, 'Total':pricequantity})\n",
    "\n",
    "        if x == \"remove\":\n",
    "            item = input(\"what would you like to remove? \")\n",
    "            quantity = int(input(\"how many are you removing? \"))\n",
    "\n",
    "            if grocery_list[item]['Quantity'] > quantity:\n",
    "                grocery_list[item]['Quantity'] = grocery_list[item]['Quantity'] - quantity\n",
    "                grocery_list[item]['Total'] = grocery_list[item]['Quantity'] grocery_list[item]['Price']\n",
    "            else:\n",
    "                del(grocery_list[item])\n",
    "\n",
    "\n",
    "        if x == \"show\":\n",
    "            print(grocery_list)\n",
    "    print(\"-----Receipt------\")\n",
    "    receipt_total = 0\n",
    "    for key in grocery_list:\n",
    "        print(key, \"\\tPrice:\", grocery_list[key]['Price'], \"\\tQuantity:\", grocery_list[key]['Quantity'], \"\\tTotal\", grocery_list[key]['Total'])\n",
    "        receipt_total += grocery_list[key]['Total']\n",
    "    print(\"Total Cost: $\" + str(round(receipt_total, 2)))\n",
    "my_list()"
   ]
  }
 ],
 "metadata": {
  "kernelspec": {
   "display_name": "Python 3 (ipykernel)",
   "language": "python",
   "name": "python3"
  },
  "language_info": {
   "codemirror_mode": {
    "name": "ipython",
    "version": 3
   },
   "file_extension": ".py",
   "mimetype": "text/x-python",
   "name": "python",
   "nbconvert_exporter": "python",
   "pygments_lexer": "ipython3",
   "version": "3.9.12"
  }
 },
 "nbformat": 4,
 "nbformat_minor": 5
}
